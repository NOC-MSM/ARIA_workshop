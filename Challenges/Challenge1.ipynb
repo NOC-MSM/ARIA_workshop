{
 "cells": [
  {
   "cell_type": "markdown",
   "id": "e2cf9d6f-10e1-447a-9cc5-41b6c70ca10a",
   "metadata": {},
   "source": [
    "Challenge 1\n",
    "\n",
    "Identify tipping points in the CLASS model data"
   ]
  },
  {
   "cell_type": "code",
   "execution_count": null,
   "id": "a2f0b6ab-e9df-4971-95f9-7512428c9be1",
   "metadata": {},
   "outputs": [],
   "source": []
  }
 ],
 "metadata": {
  "kernelspec": {
   "display_name": "Python 3 + Jaspy",
   "language": "python",
   "name": "jaspy"
  },
  "language_info": {
   "codemirror_mode": {
    "name": "ipython",
    "version": 3
   },
   "file_extension": ".py",
   "mimetype": "text/x-python",
   "name": "python",
   "nbconvert_exporter": "python",
   "pygments_lexer": "ipython3",
   "version": "3.12.11"
  }
 },
 "nbformat": 4,
 "nbformat_minor": 5
}
