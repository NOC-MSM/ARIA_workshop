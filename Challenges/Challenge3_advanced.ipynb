{
 "cells": [
  {
   "cell_type": "markdown",
   "id": "e2cf9d6f-10e1-447a-9cc5-41b6c70ca10a",
   "metadata": {},
   "source": [
    "## Challenge 3\n",
    "\n",
    "Derive metrics for tipping points"
   ]
  }
 ],
 "metadata": {
  "kernelspec": {
   "display_name": "Python 3 + Jaspy",
   "language": "python",
   "name": "jaspy"
  },
  "language_info": {
   "codemirror_mode": {
    "name": "ipython",
    "version": 3
   },
   "file_extension": ".py",
   "mimetype": "text/x-python",
   "name": "python",
   "nbconvert_exporter": "python",
   "pygments_lexer": "ipython3",
   "version": "3.12.11"
  }
 },
 "nbformat": 4,
 "nbformat_minor": 5
}
